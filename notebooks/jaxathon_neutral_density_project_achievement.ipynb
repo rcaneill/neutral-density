{
 "cells": [
  {
   "cell_type": "markdown",
   "id": "661b86eb-1381-4104-922a-09a1e9e556cc",
   "metadata": {},
   "source": [
    "Import libraries"
   ]
  },
  {
   "cell_type": "code",
   "execution_count": null,
   "id": "bb5f84d2-5a29-40cd-9fab-0c0dd1d66f31",
   "metadata": {},
   "outputs": [],
   "source": [
    "import numpy as np\n",
    "import xarray as xr\n",
    "import cf_xarray\n",
    "from xgcm import Grid, generate_grid_ds\n",
    "import gsw_xarray as gsw\n",
    "\n",
    "import numpy as np\n",
    "import xarray as xr\n",
    "import cf_xarray\n",
    "import neutralocean\n",
    "import neutralocean.grid.rectilinear\n",
    "import neutralocean.ntp\n",
    "\n",
    "from xgcm import Grid\n",
    "import gsw_xarray as gsw\n",
    "\n",
    "import matplotlib.pyplot as plt\n",
    "\n",
    "import xarray as xr\n",
    "import cf_xarray\n",
    "import numpy as np\n",
    "import jax\n",
    "from jax import numpy as jnp\n",
    "import optax\n",
    "import matplotlib.pyplot as plt"
   ]
  },
  {
   "cell_type": "code",
   "execution_count": null,
   "id": "9810b418-aaf4-44cb-b3ea-e2c9ea39029d",
   "metadata": {},
   "outputs": [],
   "source": []
  },
  {
   "cell_type": "code",
   "execution_count": null,
   "id": "3eb84dc3-2d90-4fea-a9c6-400e5c2b41f4",
   "metadata": {},
   "outputs": [],
   "source": []
  },
  {
   "cell_type": "markdown",
   "id": "7e7a2353-9042-473f-ae53-3dd889f08df8",
   "metadata": {},
   "source": [
    "## At first, we process dataset to add, SA, CT, etc\n",
    "\n",
    "Open WOA23 dataset"
   ]
  },
  {
   "cell_type": "code",
   "execution_count": null,
   "id": "60cb79bf-80b2-425c-9340-4c95fe6e752f",
   "metadata": {},
   "outputs": [],
   "source": [
    "ds = xr.open_mfdataset(\n",
    "    \"../data/woa23*.nc\", decode_times=False\n",
    ").squeeze(\"time\", drop=True)[[\"t_an\",\"s_an\"]]\n",
    "# We only keep the objectively analyzed mean fields\n",
    "ds = ds.assign_coords({\"lon\":ds.lon%360}).sortby(\"lon\")\n",
    "ds.lon.attrs[\"standard_name\"] = \"longitude\""
   ]
  },
  {
   "cell_type": "code",
   "execution_count": null,
   "id": "f404faef-fff3-453f-8719-2096afa90aab",
   "metadata": {},
   "outputs": [],
   "source": [
    "ds[\"p\"] = gsw.p_from_z(z=-ds[\"depth\"], lat=ds.lat)"
   ]
  },
  {
   "cell_type": "code",
   "execution_count": null,
   "id": "be245a1d-9586-4942-a91e-a89777dae9e0",
   "metadata": {},
   "outputs": [],
   "source": [
    "# add CT and SA\n",
    "ds[\"SA\"] = ds.gsw.SA_from_SP()"
   ]
  },
  {
   "cell_type": "code",
   "execution_count": null,
   "id": "284b42bd-67ef-4ac6-9555-833eada0ae2b",
   "metadata": {},
   "outputs": [],
   "source": [
    "ds[\"CT\"] = ds.gsw.CT_from_t()"
   ]
  },
  {
   "cell_type": "markdown",
   "id": "b7fb9449-0837-418c-9a8b-864ece620007",
   "metadata": {},
   "source": [
    "### Create xgcm.Grid\n",
    "\n",
    "For this, we need to create some new dimensions\n",
    "\n",
    "1. Create new dims: lon/lat/depth to x_c, y_c, z_c\n",
    "1. Create new x_f, y_f, z_f dimensions that correspond to cell faces and add proper attributes\n",
    "2. Add metrics\n",
    "3. Create final grid"
   ]
  },
  {
   "cell_type": "code",
   "execution_count": null,
   "id": "d6afb3f9-88ce-45d6-9062-0404414915dd",
   "metadata": {},
   "outputs": [],
   "source": [
    "ds = generate_grid_ds(\n",
    "    ds,\n",
    "    {\"X\":ds.cf[\"longitude\"].name, \"Y\":ds.cf[\"latitude\"].name, \"Z\":ds.cf[\"depth\"].name},\n",
    "    position={'X':('center','right'),'Y':('center','right'),'Z':('center','right')}\n",
    ")"
   ]
  },
  {
   "cell_type": "code",
   "execution_count": null,
   "id": "021b00ba-f800-4d9f-b255-45b589e6d341",
   "metadata": {},
   "outputs": [],
   "source": [
    "for xyz, lld in zip([\"x\",\"y\",\"z\"],[\"longitude\",\"latitude\",\"depth\"]):\n",
    "    ds[f\"{xyz}_c\"] = (ds.cf[lld].name, np.arange(ds.cf[lld].shape[0]))\n",
    "    ds = ds.swap_dims({ds.cf[lld].name:f\"{xyz}_c\"})\n",
    "    ds[f\"{xyz}_f\"] = (ds.cf[lld].name+\"_right\", np.arange(ds.cf[lld].shape[0]))\n",
    "    ds = ds.swap_dims({ds.cf[lld].name+\"_right\":f\"{xyz}_f\"})\n",
    "    ds[f\"{xyz}_c\"].attrs[\"axis\"] = ds[ds.cf[lld].name].attrs.pop(\"axis\")\n",
    "    ds[f\"{xyz}_f\"].attrs[\"axis\"] = ds[ds.cf[lld].name+\"_right\"].attrs.pop(\"axis\")\n",
    "    ds[f\"{xyz}_f\"].attrs[\"c_grid_axis_shift\"] = ds[ds.cf[lld].name+\"_right\"].attrs.pop(\"c_grid_axis_shift\")\n",
    "    ds[ds.cf[lld].name+\"_right\"].attrs[\"standard_name\"] = lld"
   ]
  },
  {
   "cell_type": "code",
   "execution_count": null,
   "id": "6c1f1ec2-31b2-4e0c-8c28-01592345f101",
   "metadata": {},
   "outputs": [],
   "source": [
    "grid = Grid(ds, periodic=[\"X\"])\n",
    "grid"
   ]
  },
  {
   "cell_type": "code",
   "execution_count": null,
   "id": "1af24a55-3ac3-44f5-8823-0f6c71a32a41",
   "metadata": {},
   "outputs": [],
   "source": [
    "dlong = 1\n",
    "dlonc = 1\n",
    "\n",
    "dlatg =1\n",
    "dlatc = 1"
   ]
  },
  {
   "cell_type": "code",
   "execution_count": null,
   "id": "cf605ea3-e69f-4b3d-9ea9-dc261ad6684a",
   "metadata": {},
   "outputs": [],
   "source": [
    "def dll_dist(dlon, dlat, lon, lat):\n",
    "        \"\"\"Converts lat/lon differentials into distances in meters\n",
    "\n",
    "        PARAMETERS\n",
    "        ----------\n",
    "        dlon : xarray.DataArray longitude differentials\n",
    "        dlat : xarray.DataArray latitude differentials\n",
    "        lon  : xarray.DataArray longitude values\n",
    "        lat  : xarray.DataArray latitude values\n",
    "\n",
    "        RETURNS\n",
    "        -------\n",
    "        dx  : xarray.DataArray distance inferred from dlon\n",
    "        dy  : xarray.DataArray distance inferred from dlat\n",
    "        \"\"\"\n",
    "\n",
    "        distance_1deg_equator = 111000.0\n",
    "        dx = dlon * np.cos(np.deg2rad(lat)) * distance_1deg_equator\n",
    "        dy = ((lon * 0) + 1) * dlat * distance_1deg_equator\n",
    "        return dx, dy\n",
    "\n",
    "ds.coords['e1tu'], e2 = dll_dist(dlonc, dlatc, ds.lon, ds.lat)\n",
    "# e1tu is at u and t points => function of y_c\n",
    "ds.coords['e2'] = np.nanmean(e2)\n",
    "ds.coords['e1vf'], e2 = dll_dist(dlonc, dlatc, ds.lon, ds.lat_right)\n",
    "# e1vf is at v and f points => function of y_f"
   ]
  },
  {
   "cell_type": "code",
   "execution_count": null,
   "id": "ac93d97b-6c1d-4faf-8bc5-2d0f095cec7b",
   "metadata": {},
   "outputs": [],
   "source": [
    "ds.coords[\"e3w\"] = grid.diff(\n",
    "    ds[\"depth\"],\n",
    "    \"Z\",\n",
    "    boundary=\"fill\",\n",
    "    fill_value=2*ds[\"depth\"].values[-1] - ds[\"depth\"].values[-2]\n",
    ")"
   ]
  },
  {
   "cell_type": "code",
   "execution_count": null,
   "id": "ad20a6bb-47e0-4e6e-adca-7f1560c126cf",
   "metadata": {},
   "outputs": [],
   "source": [
    "ds.coords[\"e3t\"] = grid.diff(\n",
    "    ds[\"depth_right\"],\n",
    "    \"Z\",\n",
    "    boundary=\"fill\",\n",
    "    fill_value=-ds[\"depth_right\"].values[0]\n",
    ")"
   ]
  },
  {
   "cell_type": "markdown",
   "id": "485ea16c-54f3-4e50-bd23-1fad1fe38f01",
   "metadata": {},
   "source": [
    "### We recreate the xgcm.Grid with the new dataset"
   ]
  },
  {
   "cell_type": "code",
   "execution_count": null,
   "id": "44a4a717-37ba-41f7-a051-a7cc6b9b9d7c",
   "metadata": {},
   "outputs": [],
   "source": [
    "grid = Grid(ds, periodic=[\"X\"], metrics={\"X\":[\"e1tu\",\"e1vf\"], \"Y\":[\"e2\"], \"Z\":[\"e3t\",\"e3w\"]})\n",
    "grid"
   ]
  },
  {
   "cell_type": "code",
   "execution_count": null,
   "id": "a2712c92-2a18-464e-a5d7-af080696ded0",
   "metadata": {},
   "outputs": [],
   "source": [
    "# we transpose the dataset to get (x,y,z) order\n",
    "ds = ds.transpose(\n",
    "    \"x_c\", \"x_f\", \"y_c\", \"y_f\", \"z_c\", \"z_f\", ...\n",
    ")"
   ]
  },
  {
   "attachments": {},
   "cell_type": "markdown",
   "id": "43945a9c-343f-4201-a582-41cd324211c8",
   "metadata": {},
   "source": [
    "## Computing reference neutral slopes\n",
    "\n",
    "The neutral slope is defined as:\n",
    "\n",
    "$$\n",
    "\\vec{\\nabla}_h z = - \\frac{1}{\\rho_0} \\frac{g}{N^2} \\vec{\\epsilon_h}\n",
    "$$\n",
    "\n",
    "So we need to compute:\n",
    "\n",
    "#### $N^2$ at U and V points\n",
    "\n",
    "$$\n",
    "N^2 = -\\frac{g}{\\rho} \\frac{\\partial \\rho}{\\partial z}\n",
    "$$\n",
    "\n",
    "$$\n",
    "N^2 = g \\left(\\alpha \\frac{\\partial \\Theta}{\\partial z} \n",
    "- \\beta \\frac{\\partial S_A}{\\partial z} \\right)\n",
    "$$\n",
    "\n",
    "\n",
    "#### $\\vec{\\epsilon_h}$ at U and V points\n",
    "\n",
    "As we compute along iso-depth, the gradients along surface are horizontal gradients:\n",
    "\n",
    "$$\n",
    "\\vec{\\epsilon_h} = \\vec{\\nabla}_h \\rho = \\rho_S \\vec{\\nabla}_h S +  \\rho_\\Theta \\vec{\\nabla}_h \\Theta\n",
    "$$\n",
    "\n",
    "We compute $\\vec{\\epsilon_h}$ using the in-situ density (we take the horizontal gradient so it is equivalent to using locally referenced potential density).\n",
    "\n",
    "\n"
   ]
  },
  {
   "cell_type": "markdown",
   "id": "6b7b66fe-c854-467b-af64-6b4a8aba5606",
   "metadata": {},
   "source": [
    "#### $\\vec{\\epsilon_h}$"
   ]
  },
  {
   "cell_type": "code",
   "execution_count": null,
   "id": "828f71a1-c989-4f8e-97c5-47010212f472",
   "metadata": {},
   "outputs": [],
   "source": [
    "rho = gsw.rho(\n",
    "    ds.SA,\n",
    "    ds.CT,\n",
    "    ds.p,\n",
    ")"
   ]
  },
  {
   "cell_type": "code",
   "execution_count": null,
   "id": "16eec73e-9959-4baa-8082-71b40470b66a",
   "metadata": {},
   "outputs": [],
   "source": [
    "ds[\"ey\"] = grid.derivative(rho, \"Y\")\n",
    "ds[\"ex\"] = grid.derivative(rho, \"X\")"
   ]
  },
  {
   "cell_type": "markdown",
   "id": "bb79e596-998a-4300-b34b-d11daddd94e2",
   "metadata": {},
   "source": [
    "#### $N^2$"
   ]
  },
  {
   "cell_type": "code",
   "execution_count": null,
   "id": "b188ed80-74ef-43c8-b836-98c957cbc6be",
   "metadata": {},
   "outputs": [],
   "source": [
    "g = 9.7963\n",
    "# https://teos-10.github.io/GSW-Python/_modules/gsw/stability.html#Nsquared"
   ]
  },
  {
   "cell_type": "code",
   "execution_count": null,
   "id": "30acc741-c283-45b0-87d6-704c621c6749",
   "metadata": {},
   "outputs": [],
   "source": [
    "dCT_dz = -grid.derivative(ds.cf[\"sea_water_conservative_temperature\"], \"Z\")\n",
    "# minus sign as z increases downward"
   ]
  },
  {
   "cell_type": "code",
   "execution_count": null,
   "id": "11445c3d-bbe6-49c3-bded-8e6c1650d1d9",
   "metadata": {},
   "outputs": [],
   "source": [
    "dSA_dz = -grid.derivative(ds.cf[\"sea_water_absolute_salinity\"], \"Z\")\n",
    "# minus sign as z increases downward"
   ]
  },
  {
   "cell_type": "code",
   "execution_count": null,
   "id": "d27cf674-97ec-452e-b87e-484021f6b985",
   "metadata": {},
   "outputs": [],
   "source": [
    "CT_w = grid.interp(ds.cf[\"sea_water_conservative_temperature\"], \"Z\")\n",
    "SA_w = grid.interp(ds.cf[\"sea_water_absolute_salinity\"], \"Z\")"
   ]
  },
  {
   "cell_type": "code",
   "execution_count": null,
   "id": "fab9a0fb-9421-48dd-9a00-a98ecf02fc00",
   "metadata": {},
   "outputs": [],
   "source": [
    "alpha = gsw.alpha(SA_w, CT_w, gsw.p_from_z(z=-ds.depth_right, lat=ds.lat))\n",
    "beta = gsw.beta(SA_w, CT_w, gsw.p_from_z(z=-ds.depth_right, lat=ds.lat))"
   ]
  },
  {
   "cell_type": "code",
   "execution_count": null,
   "id": "5ece99a6-a384-468c-a8d0-7dd0d5b3d0c9",
   "metadata": {},
   "outputs": [],
   "source": [
    "N2 = g * (alpha*dCT_dz - beta*dSA_dz)"
   ]
  },
  {
   "cell_type": "code",
   "execution_count": null,
   "id": "77b11d44-dc8c-4105-9b2d-21998f378714",
   "metadata": {},
   "outputs": [],
   "source": [
    "ds[\"N2\"] = N2"
   ]
  },
  {
   "cell_type": "markdown",
   "id": "f9427a4c-6576-4c93-ac08-799668a26d33",
   "metadata": {},
   "source": [
    "Remember what we want:\n",
    "\n",
    "\n",
    "$$\n",
    "\\vec{\\nabla}_h z = - \\frac{1}{\\rho_0} \\frac{g}{N^2} \\vec{\\epsilon_h}\n",
    "$$\n",
    "\n",
    "So we interpolate $N^2$, $\\Theta$, and $S_A$ at U and V point"
   ]
  },
  {
   "cell_type": "code",
   "execution_count": null,
   "id": "be5197e3-ae3c-422c-80af-3bcd112e8623",
   "metadata": {},
   "outputs": [],
   "source": [
    "ds[\"rho_0\"] = 1026"
   ]
  },
  {
   "cell_type": "code",
   "execution_count": null,
   "id": "db65734e-d955-49be-a7fb-68c36234b3aa",
   "metadata": {},
   "outputs": [],
   "source": [
    "ds[\"grad_h_z_U\"] = - 1 / ds.rho_0 * g / grid.interp(\n",
    "    ds.N2,\n",
    "    [\"X\",\"Z\"],\n",
    ") * ds.ex"
   ]
  },
  {
   "cell_type": "code",
   "execution_count": null,
   "id": "855a28bd-59f0-46bf-a896-6fd48f5996f8",
   "metadata": {},
   "outputs": [],
   "source": [
    "ds[\"grad_h_z_V\"] = - 1 / ds.rho_0 * g / grid.interp(\n",
    "    ds.N2,\n",
    "    [\"Y\",\"Z\"],\n",
    ") * ds.ey"
   ]
  },
  {
   "cell_type": "markdown",
   "id": "a04bdde1-0d0f-4160-ad55-baf38a7a0812",
   "metadata": {},
   "source": [
    "## Optimization of the surface"
   ]
  },
  {
   "cell_type": "code",
   "execution_count": null,
   "id": "1d5b59c7-2507-4cbc-af81-8aeee390645a",
   "metadata": {},
   "outputs": [],
   "source": [
    "# We remove Arctic Ocean for simplicity\n",
    "\n",
    "ds[[i for i in ds if \"y_c\" in ds[i].dims]] = ds[[i for i in ds if \"y_c\" in ds[i].dims]].where(ds.lat<65)\n",
    "ds[[i for i in ds if \"y_f\" in ds[i].dims]] = ds[[i for i in ds if \"y_f\" in ds[i].dims]].where(ds.lat_right<65)"
   ]
  },
  {
   "cell_type": "code",
   "execution_count": null,
   "id": "091eb7c1-94d5-4e65-8978-d146d0822134",
   "metadata": {},
   "outputs": [],
   "source": [
    "# we transpose the dataset to get (x,y,z) order\n",
    "ds = ds.transpose(\n",
    "    \"x_c\", \"x_f\", \"y_c\", \"y_f\", \"z_c\", \"z_f\", ...\n",
    ")"
   ]
  },
  {
   "cell_type": "markdown",
   "id": "9c292815-8196-4977-aca3-5e1df4784446",
   "metadata": {},
   "source": [
    "### Defining the cost function\n",
    "\n",
    "we take the MSE of difference of gradients"
   ]
  },
  {
   "cell_type": "code",
   "execution_count": null,
   "id": "80302427-2a9c-4f08-92f3-f7aab0c7a569",
   "metadata": {},
   "outputs": [],
   "source": [
    "# convert arrays of grad_h_z and depth into jax arrays\n",
    "\n",
    "grad_h_z_U = jnp.asarray(ds.grad_h_z_U)\n",
    "grad_h_z_V = jnp.asarray(ds.grad_h_z_V)\n",
    "depth_U = jnp.asarray(ds.depth.broadcast_like(ds.grad_h_z_U))\n",
    "depth_V = jnp.asarray(ds.depth.broadcast_like(ds.grad_h_z_V))\n",
    "\n",
    "e1u = jnp.asarray(ds.e1tu)\n",
    "e2v = jnp.asarray(ds.e2)"
   ]
  },
  {
   "cell_type": "code",
   "execution_count": null,
   "id": "0c6df3e7-f8b6-45b5-a9f9-58c5db213342",
   "metadata": {},
   "outputs": [],
   "source": [
    "# define a function to interpolate neutral slopes (at U,V points)\n",
    "# to the surface\n",
    "interp_1d_at_every_point = jax.vmap(jax.vmap(jnp.interp, in_axes=0), in_axes=0)"
   ]
  },
  {
   "cell_type": "code",
   "execution_count": null,
   "id": "44e9f4f2-1a51-4582-9dcb-b2d57878dea9",
   "metadata": {},
   "outputs": [],
   "source": [
    "def compute_slope_of_surface_along_axis(surface, axis, e):\n",
    "    \"\"\"\n",
    "    surface : 2D arrays, shape (x,y)\n",
    "    axis : axis on which to compute gradient, 0 for x, 1 for y\n",
    "    e : scale factor\n",
    "    \"\"\"\n",
    "    return (jnp.roll(surface, -1, axis) - surface) / e"
   ]
  },
  {
   "cell_type": "code",
   "execution_count": null,
   "id": "e22e9a4c-7a80-4333-a42e-d6518a256094",
   "metadata": {},
   "outputs": [],
   "source": [
    "# We define masks so the surface slopes are not NaNs at the boundaries\n",
    "\n",
    "umask = jnp.where(\n",
    "    jnp.isfinite(\n",
    "        compute_slope_of_surface_along_axis((ds.SA.isel(z_c=0)*0+1).values, 0, 1.)\n",
    "    ),\n",
    "    1,\n",
    "    0\n",
    ")\n",
    "\n",
    "vmask = jnp.where(\n",
    "    jnp.isfinite(\n",
    "        compute_slope_of_surface_along_axis((ds.SA.isel(z_c=0)*0+1).values, 1, 1.)\n",
    "    ),\n",
    "    1,\n",
    "    0\n",
    ")"
   ]
  },
  {
   "cell_type": "code",
   "execution_count": null,
   "id": "453f1794-6523-4c7e-845a-dea15bfa8799",
   "metadata": {},
   "outputs": [],
   "source": [
    "# HACK\n",
    "# start from neutral surfaces that are flat\n",
    "# I don’t know why simply multiplying the grads by 0 does not work...\n",
    "\n",
    "grad_h_z_U = compute_slope_of_surface_along_axis(ds.SA.isel(z_c=0).values, axis=0, e=e1u)*0\n",
    "grad_h_z_V = compute_slope_of_surface_along_axis(ds.SA.isel(z_c=0).values, axis=1, e=e2v)*0\n",
    "\n",
    "grad_h_z_U = jnp.broadcast_to(grad_h_z_U[:,:,None], (grad_h_z_U.shape[0], grad_h_z_U.shape[1], ds.depth.shape[0]))\n",
    "grad_h_z_V = jnp.broadcast_to(grad_h_z_V[:,:,None], (grad_h_z_V.shape[0], grad_h_z_V.shape[1], ds.depth.shape[0]))"
   ]
  },
  {
   "cell_type": "code",
   "execution_count": null,
   "id": "7ae246b1-faed-4b47-83f3-65d5ab276c29",
   "metadata": {},
   "outputs": [],
   "source": [
    "def compute_neutral_slope_along_surface_x(surface):\n",
    "    out = interp_1d_at_every_point(\n",
    "        x=(jnp.roll(surface,-1,0) + surface)/2, # interpolated at U point\n",
    "        xp=depth_U,\n",
    "        fp=grad_h_z_U\n",
    "    )\n",
    "    return out\n",
    "\n",
    "def compute_neutral_slope_along_surface_y(surface):\n",
    "    out = interp_1d_at_every_point(\n",
    "        x=(jnp.roll(surface,-1,1) + surface)/2, # interpolated at V point\n",
    "        xp=depth_V,\n",
    "        fp=grad_h_z_V\n",
    "    )\n",
    "    return out"
   ]
  },
  {
   "cell_type": "code",
   "execution_count": null,
   "id": "ecfd0890-b72d-4fea-91ba-37288e620288",
   "metadata": {},
   "outputs": [],
   "source": []
  },
  {
   "cell_type": "code",
   "execution_count": null,
   "id": "79e94b9b-c9b3-47d0-b8d1-3ac96d5b381e",
   "metadata": {},
   "outputs": [],
   "source": [
    "def floss(surface):\n",
    "    \"\"\"Loss function\"\"\"\n",
    "    grad_U = jnp.nan_to_num(\n",
    "        compute_slope_of_surface_along_axis(surface, axis=0, e=e1u)\n",
    "    )\n",
    "    grad_V = jnp.nan_to_num(\n",
    "        compute_slope_of_surface_along_axis(surface, axis=1, e=e2v)\n",
    "    )\n",
    "    neutral_slope_U = jnp.nan_to_num(\n",
    "        compute_neutral_slope_along_surface_x(surface)\n",
    "    )*0\n",
    "    neutral_slope_V = jnp.nan_to_num(\n",
    "        compute_neutral_slope_along_surface_y(surface)\n",
    "    )*0\n",
    "    # the last term is a regularization term, to fix the surface at a cast value\n",
    "    return jnp.nansum(\n",
    "        (grad_U - neutral_slope_U)**2 * umask + (grad_V - neutral_slope_V)**2 * vmask\n",
    "    ) *1e6 + (surface[180,90])**2\n",
    "    "
   ]
  },
  {
   "cell_type": "markdown",
   "id": "3fe4417b-b540-433c-9f19-c31b9d81a979",
   "metadata": {},
   "source": [
    "### Optimization"
   ]
  },
  {
   "cell_type": "code",
   "execution_count": null,
   "id": "9781634e-6e87-4105-9c83-a15718f07481",
   "metadata": {},
   "outputs": [],
   "source": [
    "grad_loss = jax.grad(floss)\n",
    "\n",
    "def train(params, learning_rate=0.01, num_steps=1000):\n",
    "    \"\"\"Train using gradient descent optimization\"\"\"\n",
    "    # Define optimizer\n",
    "    optimizer = optax.adam(learning_rate)\n",
    "    opt_state = optimizer.init(params)\n",
    "    \n",
    "    losses = []\n",
    "    \n",
    "    for step in range(num_steps):\n",
    "        # Compute loss and gradients\n",
    "        loss = floss(params)\n",
    "        #grads = jnp.nan_to_num(grad_loss(params))\n",
    "        grads = grad_loss(params)\n",
    "        \n",
    "        losses.append(loss)\n",
    "        \n",
    "        # Apply updates\n",
    "        updates, opt_state = optimizer.update(grads, opt_state)\n",
    "        params = optax.apply_updates(params, updates)\n",
    "        \n",
    "        # Print progress every 100 steps\n",
    "        if step % 100 == 0:\n",
    "            print(f\"Step {step}, Loss: {loss}\")\n",
    "            plt.imshow(params.T)\n",
    "            plt.show()\n",
    "    \n",
    "    return params, losses"
   ]
  },
  {
   "cell_type": "code",
   "execution_count": null,
   "id": "ac3dee32-ea3d-437f-83eb-497caa1ca8ef",
   "metadata": {},
   "outputs": [],
   "source": [
    "# Test with a surface that has a constant slope\n",
    "initial_surface = jnp.asarray((ds.lat+ds.SA.isel(z_c=0)*0).transpose(\"x_c\",\"y_c\").values)"
   ]
  },
  {
   "cell_type": "code",
   "execution_count": null,
   "id": "d5bfd312-dc93-477a-a313-f9c509e1d46d",
   "metadata": {},
   "outputs": [],
   "source": [
    "floss(initial_surface)"
   ]
  },
  {
   "cell_type": "code",
   "execution_count": null,
   "id": "56904abb-c4e9-4fdf-88a3-1aa86d4e675c",
   "metadata": {},
   "outputs": [],
   "source": [
    "xr.DataArray(initial_surface).plot()"
   ]
  },
  {
   "cell_type": "code",
   "execution_count": null,
   "id": "8153e2ca-8727-4c2b-ab21-b754e6dcb90d",
   "metadata": {},
   "outputs": [],
   "source": [
    "g = grad_loss(initial_surface)"
   ]
  },
  {
   "cell_type": "code",
   "execution_count": null,
   "id": "5f726941-ba48-493f-9963-4836c10ea778",
   "metadata": {},
   "outputs": [],
   "source": [
    "ds[\"gradient\"] = xr.DataArray(g, dims=(\"x_c\", \"y_c\"))"
   ]
  },
  {
   "cell_type": "code",
   "execution_count": null,
   "id": "bf09a835-5989-426a-8fb6-e0fc3d085dd2",
   "metadata": {},
   "outputs": [],
   "source": [
    "initial_surface[180,90]"
   ]
  },
  {
   "cell_type": "code",
   "execution_count": null,
   "id": "9846a244-9894-433e-bda2-d8c8a757c207",
   "metadata": {},
   "outputs": [],
   "source": [
    "ds[\"gradient\"].plot(robust=True, x=\"lon\", y=\"lat\")\n"
   ]
  },
  {
   "cell_type": "code",
   "execution_count": null,
   "id": "9d29a49b-f0d1-405f-bb9b-255130ef05f8",
   "metadata": {},
   "outputs": [],
   "source": [
    "   \n",
    "# Run optimization\n",
    "optimal_surface, loss_history = train(\n",
    "    initial_surface, \n",
    "    learning_rate=.1, \n",
    "    num_steps=2000\n",
    ")\n",
    "\n",
    "print(\"Optimization complete!\")\n",
    "print(f\"Initial loss: {floss(initial_surface)}\")\n",
    "print(f\"Final loss: {floss(optimal_surface)}\")"
   ]
  },
  {
   "cell_type": "code",
   "execution_count": null,
   "id": "15e0d028-bfda-4428-8d7e-153d2bed7059",
   "metadata": {},
   "outputs": [],
   "source": [
    "xr.DataArray(initial_surface- optimal_surface).plot(robust=True)"
   ]
  },
  {
   "cell_type": "code",
   "execution_count": null,
   "id": "cc822885-b415-4f55-99b7-adff618e12e5",
   "metadata": {},
   "outputs": [],
   "source": [
    "plt.imshow(initial_surface- optimal_surface)"
   ]
  }
 ],
 "metadata": {
  "kernelspec": {
   "display_name": "Python 3 (ipykernel)",
   "language": "python",
   "name": "python3"
  },
  "language_info": {
   "codemirror_mode": {
    "name": "ipython",
    "version": 3
   },
   "file_extension": ".py",
   "mimetype": "text/x-python",
   "name": "python",
   "nbconvert_exporter": "python",
   "pygments_lexer": "ipython3",
   "version": "3.10.12"
  }
 },
 "nbformat": 4,
 "nbformat_minor": 5
}
